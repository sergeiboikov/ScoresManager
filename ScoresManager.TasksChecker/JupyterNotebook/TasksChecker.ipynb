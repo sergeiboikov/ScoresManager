{
 "cells": [
  {
   "cell_type": "code",
   "execution_count": 5,
   "source": [
    "import pyodbc\r\n",
    "import pandas as pd\r\n",
    "\r\n",
    "# Input parameters\r\n",
    "# Queries should be without comments\r\n",
    "db_connection_string = 'Driver={SQL Server Native Client 11.0}; Server={ECSC00A014AD\\MSSQL2019}; Database={AdventureWorks2019}; Trusted_Connection=yes;'\r\n",
    "query_user = \"\"\"\r\n",
    "SELECT \r\n",
    "[ProductID], \r\n",
    "[Name], \r\n",
    "[Color] \r\n",
    "FROM \r\n",
    "[Production].[Product] \r\n",
    "WHERE \r\n",
    "[Color] IS NULL \r\n",
    "OR [Color] <> 'Silver'\r\n",
    "\"\"\"\r\n",
    "\r\n",
    "query_check = \"\"\"\r\n",
    "SELECT \r\n",
    "[ProductID], \r\n",
    "[Name], \r\n",
    "[Color] \r\n",
    "FROM \r\n",
    "[Production].[Product] \r\n",
    "WHERE \r\n",
    "[Color] IS NULL \r\n",
    "OR [Color] <> 'Siver'\r\n",
    "\"\"\"\r\n",
    "\r\n",
    "def compare_sql_queries(connection, user_query, check_query):\r\n",
    "    errors = list()\r\n",
    "    success = 'SUCCESS'\r\n",
    "    # Set parameters\r\n",
    "    cnxn = pyodbc.connect(connection)\r\n",
    "    try:\r\n",
    "        df_user = pd.read_sql_query(user_query, cnxn)\r\n",
    "    except Exception as ex:\r\n",
    "        print(ex.args[0])\r\n",
    "        return\r\n",
    "\r\n",
    "    df_check = pd.read_sql_query(check_query, cnxn)\r\n",
    "\r\n",
    "    # Check row counts\r\n",
    "    if len(df_user) != len(df_check):\r\n",
    "        errors.append(f'ERROR. Wrong number of records (Expected: {len(df_check)}. Received: {len(df_user)})')\r\n",
    "\r\n",
    "    # Check column counts\r\n",
    "    if len(df_user.columns) != len(df_check.columns):\r\n",
    "        errors.append(f'ERROR. Wrong number of columns (Expected: {len(df_check.columns)}. Received: {len(df_user.columns)})')\r\n",
    "\r\n",
    "    # Check column names\r\n",
    "    if set(df_user.columns) != set(df_check.columns):\r\n",
    "        errors.append(f'ERROR. Wrong column names (Expected: {df_check.columns.values}. Received: {df_user.columns.values})')\r\n",
    "\r\n",
    "    # Check dataframes for equality\r\n",
    "    if not df_user.equals(df_check):\r\n",
    "        errors.append(f'ERROR. Wrong result. The results of your query: [{df_user.to_csv(index=False)}]. The results of correct query: [{df_check.head(3).to_csv(index=False)}] ')\r\n",
    "\r\n",
    "    # Output\r\n",
    "    if errors:\r\n",
    "        print(errors)\r\n",
    "    else:\r\n",
    "        print(success)\r\n",
    "\r\n",
    "compare_sql_queries(db_connection_string, query_user, query_check)"
   ],
   "outputs": [
    {
     "output_type": "stream",
     "name": "stdout",
     "text": [
      "['ERROR. Wrong number of records (Expected: 504. Received: 461)', 'ERROR. Wrong result. The results of your query: [ProductID,Name,Color\\r\\n1,Adjustable Race,\\r\\n2,Bearing Ball,\\r\\n3,BB Ball Bearing,\\r\\n4,Headset Ball Bearings,\\r\\n316,Blade,\\r\\n317,LL Crankarm,Black\\r\\n318,ML Crankarm,Black\\r\\n319,HL Crankarm,Black\\r\\n322,Chainring,Black\\r\\n323,Crown Race,\\r\\n324,Chain Stays,\\r\\n325,Decal 1,\\r\\n326,Decal 2,\\r\\n327,Down Tube,\\r\\n328,Mountain End Caps,\\r\\n329,Road End Caps,\\r\\n330,Touring End Caps,\\r\\n331,Fork End,\\r\\n341,Flat Washer 1,\\r\\n342,Flat Washer 6,\\r\\n343,Flat Washer 2,\\r\\n344,Flat Washer 9,\\r\\n345,Flat Washer 4,\\r\\n346,Flat Washer 3,\\r\\n347,Flat Washer 8,\\r\\n348,Flat Washer 5,\\r\\n349,Flat Washer 7,\\r\\n350,Fork Crown,\\r\\n355,Guide Pulley,\\r\\n356,LL Grip Tape,\\r\\n357,ML Grip Tape,\\r\\n358,HL Grip Tape,\\r\\n359,Thin-Jam Hex Nut 9,\\r\\n360,Thin-Jam Hex Nut 10,\\r\\n361,Thin-Jam Hex Nut 1,\\r\\n362,Thin-Jam Hex Nut 2,\\r\\n363,Thin-Jam Hex Nut 15,\\r\\n364,Thin-Jam Hex Nut 16,\\r\\n365,Thin-Jam Hex Nut 5,\\r\\n366,Thin-Jam Hex Nut 6,\\r\\n367,Thin-Jam Hex Nut 3,\\r\\n368,Thin-Jam Hex Nut 4,\\r\\n369,Thin-Jam Hex Nut 13,\\r\\n370,Thin-Jam Hex Nut 14,\\r\\n371,Thin-Jam Hex Nut 7,\\r\\n372,Thin-Jam Hex Nut 8,\\r\\n373,Thin-Jam Hex Nut 12,\\r\\n374,Thin-Jam Hex Nut 11,\\r\\n375,Hex Nut 5,\\r\\n376,Hex Nut 6,\\r\\n377,Hex Nut 16,\\r\\n378,Hex Nut 17,\\r\\n379,Hex Nut 7,\\r\\n380,Hex Nut 8,\\r\\n381,Hex Nut 9,\\r\\n382,Hex Nut 22,\\r\\n383,Hex Nut 23,\\r\\n384,Hex Nut 12,\\r\\n385,Hex Nut 13,\\r\\n386,Hex Nut 1,\\r\\n387,Hex Nut 10,\\r\\n388,Hex Nut 11,\\r\\n389,Hex Nut 2,\\r\\n390,Hex Nut 20,\\r\\n391,Hex Nut 21,\\r\\n392,Hex Nut 3,\\r\\n393,Hex Nut 14,\\r\\n394,Hex Nut 15,\\r\\n395,Hex Nut 4,\\r\\n396,Hex Nut 18,\\r\\n397,Hex Nut 19,\\r\\n398,Handlebar Tube,\\r\\n399,Head Tube,\\r\\n400,LL Hub,\\r\\n401,HL Hub,\\r\\n402,Keyed Washer,\\r\\n403,External Lock Washer 3,\\r\\n404,External Lock Washer 4,\\r\\n405,External Lock Washer 9,\\r\\n406,External Lock Washer 5,\\r\\n407,External Lock Washer 7,\\r\\n408,External Lock Washer 6,\\r\\n409,External Lock Washer 1,\\r\\n410,External Lock Washer 8,\\r\\n411,External Lock Washer 2,\\r\\n412,Internal Lock Washer 3,\\r\\n413,Internal Lock Washer 4,\\r\\n414,Internal Lock Washer 9,\\r\\n415,Internal Lock Washer 5,\\r\\n416,Internal Lock Washer 7,\\r\\n417,Internal Lock Washer 6,\\r\\n418,Internal Lock Washer 10,\\r\\n419,Internal Lock Washer 1,\\r\\n420,Internal Lock Washer 8,\\r\\n421,Internal Lock Washer 2,\\r\\n422,Thin-Jam Lock Nut 9,\\r\\n423,Thin-Jam Lock Nut 10,\\r\\n424,Thin-Jam Lock Nut 1,\\r\\n425,Thin-Jam Lock Nut 2,\\r\\n426,Thin-Jam Lock Nut 15,\\r\\n427,Thin-Jam Lock Nut 16,\\r\\n428,Thin-Jam Lock Nut 5,\\r\\n429,Thin-Jam Lock Nut 6,\\r\\n430,Thin-Jam Lock Nut 3,\\r\\n431,Thin-Jam Lock Nut 4,\\r\\n432,Thin-Jam Lock Nut 13,\\r\\n433,Thin-Jam Lock Nut 14,\\r\\n434,Thin-Jam Lock Nut 7,\\r\\n435,Thin-Jam Lock Nut 8,\\r\\n436,Thin-Jam Lock Nut 12,\\r\\n437,Thin-Jam Lock Nut 11,\\r\\n438,Lock Nut 5,\\r\\n439,Lock Nut 6,\\r\\n440,Lock Nut 16,\\r\\n441,Lock Nut 17,\\r\\n442,Lock Nut 7,\\r\\n443,Lock Nut 8,\\r\\n444,Lock Nut 9,\\r\\n445,Lock Nut 22,\\r\\n446,Lock Nut 23,\\r\\n447,Lock Nut 12,\\r\\n448,Lock Nut 13,\\r\\n449,Lock Nut 1,\\r\\n450,Lock Nut 10,\\r\\n451,Lock Nut 11,\\r\\n452,Lock Nut 2,\\r\\n453,Lock Nut 20,\\r\\n454,Lock Nut 21,\\r\\n455,Lock Nut 3,\\r\\n456,Lock Nut 14,\\r\\n457,Lock Nut 15,\\r\\n458,Lock Nut 4,\\r\\n459,Lock Nut 19,\\r\\n460,Lock Nut 18,\\r\\n462,Lower Head Race,\\r\\n463,Lock Washer 4,\\r\\n464,Lock Washer 5,\\r\\n465,Lock Washer 10,\\r\\n466,Lock Washer 6,\\r\\n467,Lock Washer 13,\\r\\n468,Lock Washer 8,\\r\\n469,Lock Washer 1,\\r\\n470,Lock Washer 7,\\r\\n471,Lock Washer 12,\\r\\n472,Lock Washer 2,\\r\\n473,Lock Washer 9,\\r\\n474,Lock Washer 3,\\r\\n475,Lock Washer 11,\\r\\n476,Metal Angle,\\r\\n477,Metal Bar 1,\\r\\n478,Metal Bar 2,\\r\\n479,Metal Plate 2,\\r\\n480,Metal Plate 1,\\r\\n481,Metal Plate 3,\\r\\n482,Metal Sheet 2,\\r\\n483,Metal Sheet 3,\\r\\n484,Metal Sheet 7,\\r\\n485,Metal Sheet 4,\\r\\n486,Metal Sheet 5,\\r\\n487,Metal Sheet 6,\\r\\n488,Metal Sheet 1,\\r\\n489,Metal Tread Plate,\\r\\n490,LL Nipple,\\r\\n491,HL Nipple,\\r\\n492,Paint - Black,\\r\\n493,Paint - Red,\\r\\n494,Paint - Silver,\\r\\n495,Paint - Blue,\\r\\n496,Paint - Yellow,\\r\\n497,Pinch Bolt,\\r\\n504,Cup-Shaped Race,\\r\\n505,Cone-Shaped Race,\\r\\n506,Reflector,\\r\\n507,LL Mountain Rim,\\r\\n508,ML Mountain Rim,\\r\\n509,HL Mountain Rim,\\r\\n510,LL Road Rim,\\r\\n511,ML Road Rim,\\r\\n512,HL Road Rim,\\r\\n513,Touring Rim,\\r\\n514,LL Mountain Seat Assembly,\\r\\n515,ML Mountain Seat Assembly,\\r\\n516,HL Mountain Seat Assembly,\\r\\n517,LL Road Seat Assembly,\\r\\n518,ML Road Seat Assembly,\\r\\n519,HL Road Seat Assembly,\\r\\n520,LL Touring Seat Assembly,\\r\\n521,ML Touring Seat Assembly,\\r\\n522,HL Touring Seat Assembly,\\r\\n523,LL Spindle/Axle,\\r\\n524,HL Spindle/Axle,\\r\\n525,LL Shell,\\r\\n526,HL Shell,\\r\\n527,Spokes,\\r\\n528,Seat Lug,\\r\\n529,Stem,\\r\\n530,Seat Post,\\r\\n531,Steerer,\\r\\n532,Seat Stays,\\r\\n533,Seat Tube,\\r\\n534,Top Tube,\\r\\n535,Tension Pulley,\\r\\n680,\"HL Road Frame - Black, 58\",Black\\r\\n706,\"HL Road Frame - Red, 58\",Red\\r\\n707,\"Sport-100 Helmet, Red\",Red\\r\\n708,\"Sport-100 Helmet, Black\",Black\\r\\n709,\"Mountain Bike Socks, M\",White\\r\\n710,\"Mountain Bike Socks, L\",White\\r\\n711,\"Sport-100 Helmet, Blue\",Blue\\r\\n712,AWC Logo Cap,Multi\\r\\n713,\"Long-Sleeve Logo Jersey, S\",Multi\\r\\n714,\"Long-Sleeve Logo Jersey, M\",Multi\\r\\n715,\"Long-Sleeve Logo Jersey, L\",Multi\\r\\n716,\"Long-Sleeve Logo Jersey, XL\",Multi\\r\\n717,\"HL Road Frame - Red, 62\",Red\\r\\n718,\"HL Road Frame - Red, 44\",Red\\r\\n719,\"HL Road Frame - Red, 48\",Red\\r\\n720,\"HL Road Frame - Red, 52\",Red\\r\\n721,\"HL Road Frame - Red, 56\",Red\\r\\n722,\"LL Road Frame - Black, 58\",Black\\r\\n723,\"LL Road Frame - Black, 60\",Black\\r\\n724,\"LL Road Frame - Black, 62\",Black\\r\\n725,\"LL Road Frame - Red, 44\",Red\\r\\n726,\"LL Road Frame - Red, 48\",Red\\r\\n727,\"LL Road Frame - Red, 52\",Red\\r\\n728,\"LL Road Frame - Red, 58\",Red\\r\\n729,\"LL Road Frame - Red, 60\",Red\\r\\n730,\"LL Road Frame - Red, 62\",Red\\r\\n731,\"ML Road Frame - Red, 44\",Red\\r\\n732,\"ML Road Frame - Red, 48\",Red\\r\\n733,\"ML Road Frame - Red, 52\",Red\\r\\n734,\"ML Road Frame - Red, 58\",Red\\r\\n735,\"ML Road Frame - Red, 60\",Red\\r\\n736,\"LL Road Frame - Black, 44\",Black\\r\\n737,\"LL Road Frame - Black, 48\",Black\\r\\n738,\"LL Road Frame - Black, 52\",Black\\r\\n743,\"HL Mountain Frame - Black, 42\",Black\\r\\n744,\"HL Mountain Frame - Black, 44\",Black\\r\\n745,\"HL Mountain Frame - Black, 48\",Black\\r\\n746,\"HL Mountain Frame - Black, 46\",Black\\r\\n747,\"HL Mountain Frame - Black, 38\",Black\\r\\n749,\"Road-150 Red, 62\",Red\\r\\n750,\"Road-150 Red, 44\",Red\\r\\n751,\"Road-150 Red, 48\",Red\\r\\n752,\"Road-150 Red, 52\",Red\\r\\n753,\"Road-150 Red, 56\",Red\\r\\n754,\"Road-450 Red, 58\",Red\\r\\n755,\"Road-450 Red, 60\",Red\\r\\n756,\"Road-450 Red, 44\",Red\\r\\n757,\"Road-450 Red, 48\",Red\\r\\n758,\"Road-450 Red, 52\",Red\\r\\n759,\"Road-650 Red, 58\",Red\\r\\n760,\"Road-650 Red, 60\",Red\\r\\n761,\"Road-650 Red, 62\",Red\\r\\n762,\"Road-650 Red, 44\",Red\\r\\n763,\"Road-650 Red, 48\",Red\\r\\n764,\"Road-650 Red, 52\",Red\\r\\n765,\"Road-650 Black, 58\",Black\\r\\n766,\"Road-650 Black, 60\",Black\\r\\n767,\"Road-650 Black, 62\",Black\\r\\n768,\"Road-650 Black, 44\",Black\\r\\n769,\"Road-650 Black, 48\",Black\\r\\n770,\"Road-650 Black, 52\",Black\\r\\n775,\"Mountain-100 Black, 38\",Black\\r\\n776,\"Mountain-100 Black, 42\",Black\\r\\n777,\"Mountain-100 Black, 44\",Black\\r\\n778,\"Mountain-100 Black, 48\",Black\\r\\n782,\"Mountain-200 Black, 38\",Black\\r\\n783,\"Mountain-200 Black, 42\",Black\\r\\n784,\"Mountain-200 Black, 46\",Black\\r\\n785,\"Mountain-300 Black, 38\",Black\\r\\n786,\"Mountain-300 Black, 40\",Black\\r\\n787,\"Mountain-300 Black, 44\",Black\\r\\n788,\"Mountain-300 Black, 48\",Black\\r\\n789,\"Road-250 Red, 44\",Red\\r\\n790,\"Road-250 Red, 48\",Red\\r\\n791,\"Road-250 Red, 52\",Red\\r\\n792,\"Road-250 Red, 58\",Red\\r\\n793,\"Road-250 Black, 44\",Black\\r\\n794,\"Road-250 Black, 48\",Black\\r\\n795,\"Road-250 Black, 52\",Black\\r\\n796,\"Road-250 Black, 58\",Black\\r\\n797,\"Road-550-W Yellow, 38\",Yellow\\r\\n798,\"Road-550-W Yellow, 40\",Yellow\\r\\n799,\"Road-550-W Yellow, 42\",Yellow\\r\\n800,\"Road-550-W Yellow, 44\",Yellow\\r\\n801,\"Road-550-W Yellow, 48\",Yellow\\r\\n802,LL Fork,\\r\\n803,ML Fork,\\r\\n804,HL Fork,\\r\\n805,LL Headset,\\r\\n806,ML Headset,\\r\\n807,HL Headset,\\r\\n808,LL Mountain Handlebars,\\r\\n809,ML Mountain Handlebars,\\r\\n810,HL Mountain Handlebars,\\r\\n811,LL Road Handlebars,\\r\\n812,ML Road Handlebars,\\r\\n813,HL Road Handlebars,\\r\\n814,\"ML Mountain Frame - Black, 38\",Black\\r\\n815,LL Mountain Front Wheel,Black\\r\\n816,ML Mountain Front Wheel,Black\\r\\n817,HL Mountain Front Wheel,Black\\r\\n818,LL Road Front Wheel,Black\\r\\n819,ML Road Front Wheel,Black\\r\\n820,HL Road Front Wheel,Black\\r\\n821,Touring Front Wheel,Black\\r\\n822,\"ML Road Frame-W - Yellow, 38\",Yellow\\r\\n823,LL Mountain Rear Wheel,Black\\r\\n824,ML Mountain Rear Wheel,Black\\r\\n825,HL Mountain Rear Wheel,Black\\r\\n826,LL Road Rear Wheel,Black\\r\\n827,ML Road Rear Wheel,Black\\r\\n828,HL Road Rear Wheel,Black\\r\\n829,Touring Rear Wheel,Black\\r\\n830,\"ML Mountain Frame - Black, 40\",Black\\r\\n831,\"ML Mountain Frame - Black, 44\",Black\\r\\n832,\"ML Mountain Frame - Black, 48\",Black\\r\\n833,\"ML Road Frame-W - Yellow, 40\",Yellow\\r\\n834,\"ML Road Frame-W - Yellow, 42\",Yellow\\r\\n835,\"ML Road Frame-W - Yellow, 44\",Yellow\\r\\n836,\"ML Road Frame-W - Yellow, 48\",Yellow\\r\\n837,\"HL Road Frame - Black, 62\",Black\\r\\n838,\"HL Road Frame - Black, 44\",Black\\r\\n839,\"HL Road Frame - Black, 48\",Black\\r\\n840,\"HL Road Frame - Black, 52\",Black\\r\\n841,\"Men\\'s Sports Shorts, S\",Black\\r\\n842,\"Touring-Panniers, Large\",Grey\\r\\n843,Cable Lock,\\r\\n844,Minipump,\\r\\n845,Mountain Pump,\\r\\n846,Taillights - Battery-Powered,\\r\\n847,Headlights - Dual-Beam,\\r\\n848,Headlights - Weatherproof,\\r\\n849,\"Men\\'s Sports Shorts, M\",Black\\r\\n850,\"Men\\'s Sports Shorts, L\",Black\\r\\n851,\"Men\\'s Sports Shorts, XL\",Black\\r\\n852,\"Women\\'s Tights, S\",Black\\r\\n853,\"Women\\'s Tights, M\",Black\\r\\n854,\"Women\\'s Tights, L\",Black\\r\\n855,\"Men\\'s Bib-Shorts, S\",Multi\\r\\n856,\"Men\\'s Bib-Shorts, M\",Multi\\r\\n857,\"Men\\'s Bib-Shorts, L\",Multi\\r\\n858,\"Half-Finger Gloves, S\",Black\\r\\n859,\"Half-Finger Gloves, M\",Black\\r\\n860,\"Half-Finger Gloves, L\",Black\\r\\n861,\"Full-Finger Gloves, S\",Black\\r\\n862,\"Full-Finger Gloves, M\",Black\\r\\n863,\"Full-Finger Gloves, L\",Black\\r\\n864,\"Classic Vest, S\",Blue\\r\\n865,\"Classic Vest, M\",Blue\\r\\n866,\"Classic Vest, L\",Blue\\r\\n867,\"Women\\'s Mountain Shorts, S\",Black\\r\\n868,\"Women\\'s Mountain Shorts, M\",Black\\r\\n869,\"Women\\'s Mountain Shorts, L\",Black\\r\\n870,Water Bottle - 30 oz.,\\r\\n871,Mountain Bottle Cage,\\r\\n872,Road Bottle Cage,\\r\\n873,Patch Kit/8 Patches,\\r\\n874,\"Racing Socks, M\",White\\r\\n875,\"Racing Socks, L\",White\\r\\n876,Hitch Rack - 4-Bike,\\r\\n877,Bike Wash - Dissolver,\\r\\n878,Fender Set - Mountain,\\r\\n879,All-Purpose Bike Stand,\\r\\n881,\"Short-Sleeve Classic Jersey, S\",Yellow\\r\\n882,\"Short-Sleeve Classic Jersey, M\",Yellow\\r\\n883,\"Short-Sleeve Classic Jersey, L\",Yellow\\r\\n884,\"Short-Sleeve Classic Jersey, XL\",Yellow\\r\\n885,\"HL Touring Frame - Yellow, 60\",Yellow\\r\\n886,\"LL Touring Frame - Yellow, 62\",Yellow\\r\\n887,\"HL Touring Frame - Yellow, 46\",Yellow\\r\\n888,\"HL Touring Frame - Yellow, 50\",Yellow\\r\\n889,\"HL Touring Frame - Yellow, 54\",Yellow\\r\\n890,\"HL Touring Frame - Blue, 46\",Blue\\r\\n891,\"HL Touring Frame - Blue, 50\",Blue\\r\\n892,\"HL Touring Frame - Blue, 54\",Blue\\r\\n893,\"HL Touring Frame - Blue, 60\",Blue\\r\\n895,\"LL Touring Frame - Blue, 50\",Blue\\r\\n896,\"LL Touring Frame - Blue, 54\",Blue\\r\\n897,\"LL Touring Frame - Blue, 58\",Blue\\r\\n898,\"LL Touring Frame - Blue, 62\",Blue\\r\\n899,\"LL Touring Frame - Yellow, 44\",Yellow\\r\\n900,\"LL Touring Frame - Yellow, 50\",Yellow\\r\\n901,\"LL Touring Frame - Yellow, 54\",Yellow\\r\\n902,\"LL Touring Frame - Yellow, 58\",Yellow\\r\\n903,\"LL Touring Frame - Blue, 44\",Blue\\r\\n908,LL Mountain Seat/Saddle,\\r\\n909,ML Mountain Seat/Saddle,\\r\\n910,HL Mountain Seat/Saddle,\\r\\n911,LL Road Seat/Saddle,\\r\\n912,ML Road Seat/Saddle,\\r\\n913,HL Road Seat/Saddle,\\r\\n914,LL Touring Seat/Saddle,\\r\\n915,ML Touring Seat/Saddle,\\r\\n916,HL Touring Seat/Saddle,\\r\\n921,Mountain Tire Tube,\\r\\n922,Road Tire Tube,\\r\\n923,Touring Tire Tube,\\r\\n924,\"LL Mountain Frame - Black, 42\",Black\\r\\n925,\"LL Mountain Frame - Black, 44\",Black\\r\\n926,\"LL Mountain Frame - Black, 48\",Black\\r\\n927,\"LL Mountain Frame - Black, 52\",Black\\r\\n928,LL Mountain Tire,\\r\\n929,ML Mountain Tire,\\r\\n930,HL Mountain Tire,\\r\\n931,LL Road Tire,\\r\\n932,ML Road Tire,\\r\\n933,HL Road Tire,\\r\\n934,Touring Tire,\\r\\n935,LL Mountain Pedal,Silver/Black\\r\\n936,ML Mountain Pedal,Silver/Black\\r\\n937,HL Mountain Pedal,Silver/Black\\r\\n938,LL Road Pedal,Silver/Black\\r\\n939,ML Road Pedal,Silver/Black\\r\\n940,HL Road Pedal,Silver/Black\\r\\n941,Touring Pedal,Silver/Black\\r\\n943,\"LL Mountain Frame - Black, 40\",Black\\r\\n946,LL Touring Handlebars,\\r\\n947,HL Touring Handlebars,\\r\\n949,LL Crankset,Black\\r\\n950,ML Crankset,Black\\r\\n951,HL Crankset,Black\\r\\n953,\"Touring-2000 Blue, 60\",Blue\\r\\n954,\"Touring-1000 Yellow, 46\",Yellow\\r\\n955,\"Touring-1000 Yellow, 50\",Yellow\\r\\n956,\"Touring-1000 Yellow, 54\",Yellow\\r\\n957,\"Touring-1000 Yellow, 60\",Yellow\\r\\n958,\"Touring-3000 Blue, 54\",Blue\\r\\n959,\"Touring-3000 Blue, 58\",Blue\\r\\n960,\"Touring-3000 Blue, 62\",Blue\\r\\n961,\"Touring-3000 Yellow, 44\",Yellow\\r\\n962,\"Touring-3000 Yellow, 50\",Yellow\\r\\n963,\"Touring-3000 Yellow, 54\",Yellow\\r\\n964,\"Touring-3000 Yellow, 58\",Yellow\\r\\n965,\"Touring-3000 Yellow, 62\",Yellow\\r\\n966,\"Touring-1000 Blue, 46\",Blue\\r\\n967,\"Touring-1000 Blue, 50\",Blue\\r\\n968,\"Touring-1000 Blue, 54\",Blue\\r\\n969,\"Touring-1000 Blue, 60\",Blue\\r\\n970,\"Touring-2000 Blue, 46\",Blue\\r\\n971,\"Touring-2000 Blue, 50\",Blue\\r\\n972,\"Touring-2000 Blue, 54\",Blue\\r\\n973,\"Road-350-W Yellow, 40\",Yellow\\r\\n974,\"Road-350-W Yellow, 42\",Yellow\\r\\n975,\"Road-350-W Yellow, 44\",Yellow\\r\\n976,\"Road-350-W Yellow, 48\",Yellow\\r\\n977,\"Road-750 Black, 58\",Black\\r\\n978,\"Touring-3000 Blue, 44\",Blue\\r\\n979,\"Touring-3000 Blue, 50\",Blue\\r\\n989,\"Mountain-500 Black, 40\",Black\\r\\n990,\"Mountain-500 Black, 42\",Black\\r\\n991,\"Mountain-500 Black, 44\",Black\\r\\n992,\"Mountain-500 Black, 48\",Black\\r\\n993,\"Mountain-500 Black, 52\",Black\\r\\n994,LL Bottom Bracket,\\r\\n995,ML Bottom Bracket,\\r\\n996,HL Bottom Bracket,\\r\\n997,\"Road-750 Black, 44\",Black\\r\\n998,\"Road-750 Black, 48\",Black\\r\\n999,\"Road-750 Black, 52\",Black\\r\\n]. The results of correct query: [ProductID,Name,Color\\r\\n1,Adjustable Race,\\r\\n2,Bearing Ball,\\r\\n3,BB Ball Bearing,\\r\\n] ']\n"
     ]
    }
   ],
   "metadata": {}
  },
  {
   "cell_type": "code",
   "execution_count": null,
   "source": [
    "# Result for check query\r\n",
    "#df_check.style"
   ],
   "outputs": [],
   "metadata": {}
  }
 ],
 "metadata": {
  "orig_nbformat": 4,
  "language_info": {
   "name": "python",
   "version": "3.9.4",
   "mimetype": "text/x-python",
   "codemirror_mode": {
    "name": "ipython",
    "version": 3
   },
   "pygments_lexer": "ipython3",
   "nbconvert_exporter": "python",
   "file_extension": ".py"
  },
  "kernelspec": {
   "name": "python3",
   "display_name": "Python 3.9.4 64-bit"
  },
  "interpreter": {
   "hash": "bd4c67ef142469da7dc4d338a32ac40116904d26076b8e6aa587d80720bc6a2b"
  }
 },
 "nbformat": 4,
 "nbformat_minor": 2
}